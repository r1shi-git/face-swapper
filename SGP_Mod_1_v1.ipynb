{
 "cells": [
  {
   "cell_type": "code",
   "execution_count": 1,
   "metadata": {},
   "outputs": [],
   "source": [
    "import dlib\n",
    "import cv2\n",
    "import numpy as np\n",
    "\n",
    "#Classifier constants\n",
    "RIGHT_EYE_POINTS = range(36, 42)\n",
    "LEFT_EYE_POINTS = range(42, 48)\n",
    "\n",
    "LEFT_BROW_POINTS = range(22, 27)\n",
    "RIGHT_BROW_POINTS = range(17, 22)\n",
    "NOSE_POINTS = range(27, 35)\n",
    "MOUTH_POINTS = range(48, 61)\n",
    "\n",
    "POINTS = [RIGHT_EYE_POINTS, LEFT_EYE_POINTS, LEFT_BROW_POINTS, RIGHT_BROW_POINTS, NOSE_POINTS, MOUTH_POINTS]\n",
    "FLAT_POINTS = range(68)\n",
    "#alternatively flatten the other list with [item for sublist in POINTS for item in sublist]\n",
    "\n",
    "#paths of helper files\n",
    "PRED_PATH = \"shape_predictor_68_face_landmarks.dat\"\n",
    "HAAR_PATH = \"haarcascade_frontalface_default.xml\"\n",
    "IMG_PATH = \"Trump1.jpg\" #trump.jpg\n",
    "\n",
    "#constants for later use\n",
    "SCALE_FACTOR = 0.75 #smaller = faster but blurrier\n",
    "FEATHER_AMOUNT = int(25*SCALE_FACTOR)//2*2+1 #adapt to scaling-factor. assuming 640x480\n",
    "COLOUR_CORRECT_BLUR_FRAC = 0.6 #ratio of overlay of blur\n",
    "\n",
    "#configure if get_landmarks should use the dlib-detector or the cascade classifier\n",
    "DLIB_ON = True\n",
    "USE_COLOR_CORRECTION = True\n",
    "USE_MASK = True\n",
    "\n",
    "#initializations\n",
    "cascade = cv2.CascadeClassifier(HAAR_PATH)\n",
    "detector = dlib.get_frontal_face_detector()\n",
    "predictor = dlib.shape_predictor(PRED_PATH)\n",
    "\n",
    "\n",
    "def get_landmarks(im):\n",
    "    rects = detector(im, 1) if DLIB_ON else cascade.detectMultiScale(im, 1.3,5)\n",
    "    \n",
    "    if len(rects) != 1:\n",
    "        raise RuntimeError(\"Nr. of faces: \"+str(len(rects)))\n",
    "    \n",
    "    if DLIB_ON:\n",
    "        rect = rects[0]\n",
    "    else:\n",
    "        x,y,w,h = rects[0]\n",
    "        rect = dlib.rectangle(int(x),int(y),int(x+w),int(y+h)) \n",
    "    return np.matrix([[p.x, p.y] for p in predictor(im, rect).parts()])"
   ]
  }
 ],
 "metadata": {
  "kernelspec": {
   "display_name": "Python 3",
   "language": "python",
   "name": "python3"
  },
  "language_info": {
   "codemirror_mode": {
    "name": "ipython",
    "version": 3
   },
   "file_extension": ".py",
   "mimetype": "text/x-python",
   "name": "python",
   "nbconvert_exporter": "python",
   "pygments_lexer": "ipython3",
   "version": "3.6.8"
  }
 },
 "nbformat": 4,
 "nbformat_minor": 2
}
